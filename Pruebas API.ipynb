{
 "cells": [
  {
   "cell_type": "code",
   "execution_count": 65,
   "metadata": {},
   "outputs": [],
   "source": [
    "import os \n",
    "from dotenv import load_dotenv\n",
    "load_dotenv()\n",
    "import json\n",
    "import requests\n",
    "import re\n",
    "from bs4 import BeautifulSoup"
   ]
  },
  {
   "cell_type": "code",
   "execution_count": 2,
   "metadata": {},
   "outputs": [],
   "source": [
    "def get_gh_v3(endpoint, apiKey=os.getenv(\"GITHUB_APIKEY\"), query_params={}): \n",
    "    \"\"\"\n",
    "    Get data from github using query parameters and passing a custom apikey header\n",
    "    \"\"\"\n",
    "    \n",
    "    # Compose the endpoint url\n",
    "    baseUrl = \"https://api.github.com\"\n",
    "    url = f\"{baseUrl}{endpoint}\"\n",
    "\n",
    "    # Create the headers\n",
    "    headers = {\n",
    "        \"Authorization\": f\"Bearer {apiKey}\"\n",
    "    }\n",
    "    # make the request and get the response using HTTP GET verb \n",
    "    res = requests.get(url, params=query_params, headers=headers)\n",
    "    print(f\"Request data to {res.url} status_code:{res.status_code}\")\n",
    "    \n",
    "    data = res.json()\n",
    "    return data"
   ]
  },
  {
   "cell_type": "code",
   "execution_count": 163,
   "metadata": {},
   "outputs": [
    {
     "name": "stdout",
     "output_type": "stream",
     "text": [
      "Request data to https://api.github.com/repos/ironhack-datalabs/datamad0820/pulls?state=closed&page=4 status_code:200\n",
      "{'', 'Muchas gracias, Amanda y Felipe :)', '<a href=\"https://imgflip.com/i/4ed7hr\"><img src=\"https://i.imgflip.com/4ed7hr.jpg\" title=\"made at imgflip.com\"/></a><div><a href=\"https://imgflip.com/memegenerator\">from Imgflip Meme Generator</a></div>', '\\r\\n![image](https://user-images.githubusercontent.com/66179117/92662805-e9b8b500-f2ff-11ea-9f1a-7dd6cef3a4d1.gif)\\r\\n\\r\\n\\r\\n', 'Me he quedado justo en el de los terremotos pero pienso seguir hoy o mañana, la verdad es que me he visto super lento al principio pero me ha ido enganchando, al menos hasta que he llegado al del dataframe que me ha dejado planchado.\\r\\nno encuentro el meme que quiero asi que dejo esta joyita...\\r\\n\\r\\n![image](https://user-images.githubusercontent.com/68472164/92686772-96b02380-f33a-11ea-8142-6dd2d4a215a1.png)\\r\\n', 'Buenas noches,\\r\\nNo he hecho todos los ejercicios,más bien una pequeña parte', 'Sé que no esta completo, y que quizá no esta perfecto, pero ya mi capacidad se ha agotado y creo que lo que he hecho lo he entendido... Rest needed', 'De mal en peor... vaya semanita llevo!', 'Tuve problemas con varios de los ejercicios, tengo que trabajar muchísimo más en lo de web scrapping, el lab no está terminado :(', 'Este lab es teblibleeee https://www.youtube.com/watch?v=Q2poenCTYkI\\r\\nEn el de los terremotos no he podido hacer un dataframe más claro... y de twitter ya no hablemos :cry: ', 'Hola, hasta aquí llegó mi día de hoy. Hice todo lo que pude porque perdí mucho tiempo al principio viendo como moverme por las etiquetas y empecé a hacer algo coherente a las 2 horas más o menos. Me quedé con ganas de hacer el bonus ahora que ya me estaba enterando del tema, si tengo tiempo a lo largo del bootcamp lo retomaré.\\r\\n\\r\\n![image](https://user-images.githubusercontent.com/61025562/92658846-27f9a880-f2ef-11ea-920c-7a39b076f665.png)\\r\\n', 'Subo lo poco que he hecho.. no entiendo nada!!! SOS!!', 'Ojalá todos los datasets estuvieran así de limpitos :sob: jejejeje', 'Hola,\\r\\n\\r\\nEnvío los ejercicios del lab de web scraping hechos (sin la parte de bonus, que se me hace tarde). También hay una página a la que no he conseguido conectar (la de hackevents) pero no sé si es cosa mía o es que está caída.\\r\\n\\r\\nUn saludo.', 'Me faaltaan me faltaan ...esto es buscar agujitas en un pajar ', 'Travesura realizada!', 'El lab de hoy me ha matado.. literal jajajajjajaja.\\r\\nAl menos te sientes poderoso cuando consigues scrapear algo :dark_sunglasses:  jeje.', 'Hola, chicos,\\r\\n\\r\\nMuchas gracias por vuestro ayuda :)\\r\\n\\r\\nSaludos,\\r\\n\\r\\n@AnaMA96 y Paula\\r\\n\\r\\n', 'Hola!!!\\r\\nVolvi a hacerlo entero y no me acordaba de nada ajjaja  asique ni bonus ni nada . Me ha venido genial para  refrescar ', 'He estado bastante rato y no he conseguido nada. YouTube e ha ayudado pero tendre que mirarmelo bastante mas. A ver si mañana me aclaro un poco.', 'Telita con el web scraping eeh... ahora me parece super interesante! a ver si le voy pillando el tranquillo. Va sin bonus, no me daba la vida para más...\\r\\n\\r\\n![image](https://user-images.githubusercontent.com/68195145/92649299-16160680-f2eb-11ea-84d2-645ea860fa13.png)\\r\\n', 'Tardé haciendo el juego (2h). No me dio chance de hacer este lab, no entiendo la estructura de la búsqueda.'}\n"
     ]
    }
   ],
   "source": [
    "data = get_gh_v3(\"/repos/ironhack-datalabs/datamad0820/pulls?state=closed&page=4\")  \n",
    "student_name = set([d[\"user\"][\"login\"] for d in data])\n",
    "student_id = set([d[\"user\"][\"id\"] for d in data])\n",
    "pulls = set([d[\"head\"][\"repo\"][\"pulls_url\"] for d in data])\n",
    "# En body buscare los joins y los @.\n",
    "body = set([d[\"body\"] for d in data])\n",
    "lab_number = set([d[\"number\"] for d in data]) \n",
    "#lab_id = \n",
    "print(body)"
   ]
  },
  {
   "cell_type": "code",
   "execution_count": null,
   "metadata": {},
   "outputs": [],
   "source": [
    "\"\"\"Estoy bastante bloqueado, encuentro los datos pero no estoy siendo capaz de encontrar todos los \n",
    "estudiantes, me faltan algunos. Mi intención para hoy es terminar de localizar todos los estudiantes\n",
    "y dejar creadas las funciones para poder empezar a introducir los datos en MongoDB.\"\"\""
   ]
  },
  {
   "cell_type": "code",
   "execution_count": null,
   "metadata": {},
   "outputs": [],
   "source": []
  },
  {
   "cell_type": "code",
   "execution_count": null,
   "metadata": {},
   "outputs": [],
   "source": []
  },
  {
   "cell_type": "code",
   "execution_count": null,
   "metadata": {},
   "outputs": [],
   "source": []
  },
  {
   "cell_type": "code",
   "execution_count": null,
   "metadata": {},
   "outputs": [],
   "source": [
    "def getStudent(pokeId):\n",
    "    print(f\"Requesting pokemon {pokeId}\")\n",
    "    res = requests.get(f\"https://pokeapi.co/api/v2/pokemon/{pokeId}\")\n",
    "    data = res.json()\n",
    "    return {\n",
    "        \"pokeId\":pokeId,\n",
    "        \"name\":data[\"name\"],\n",
    "        \"image\":data[\"sprites\"][\"front_default\"],\n",
    "        \"moves\": [move[\"move\"][\"name\"] for move in data[\"moves\"]]"
   ]
  },
  {
   "cell_type": "code",
   "execution_count": 120,
   "metadata": {},
   "outputs": [
    {
     "name": "stdout",
     "output_type": "stream",
     "text": [
      "{'message': 'Not Found', 'documentation_url': 'https://docs.github.com/rest'}\n"
     ]
    }
   ],
   "source": [
    "pull = data[0][\"head\"][\"repo\"][\"pulls_url\"]\n",
    "response=requests.get(pull).json()"
   ]
  },
  {
   "cell_type": "code",
   "execution_count": 121,
   "metadata": {},
   "outputs": [
    {
     "ename": "AttributeError",
     "evalue": "'dict' object has no attribute 'text'",
     "output_type": "error",
     "traceback": [
      "\u001b[0;31m---------------------------------------------------------------------------\u001b[0m",
      "\u001b[0;31mAttributeError\u001b[0m                            Traceback (most recent call last)",
      "\u001b[0;32m<ipython-input-121-a93400898b99>\u001b[0m in \u001b[0;36m<module>\u001b[0;34m\u001b[0m\n\u001b[1;32m      2\u001b[0m response = requests.get(url)\"\"\"\n\u001b[1;32m      3\u001b[0m \u001b[0;31m#html = response.text\u001b[0m\u001b[0;34m\u001b[0m\u001b[0;34m\u001b[0m\u001b[0;34m\u001b[0m\u001b[0m\n\u001b[0;32m----> 4\u001b[0;31m \u001b[0msoup\u001b[0m \u001b[0;34m=\u001b[0m \u001b[0mBeautifulSoup\u001b[0m\u001b[0;34m(\u001b[0m\u001b[0mresponse\u001b[0m\u001b[0;34m.\u001b[0m\u001b[0mtext\u001b[0m\u001b[0;34m,\u001b[0m \u001b[0;34m'html.parser'\u001b[0m\u001b[0;34m)\u001b[0m\u001b[0;34m\u001b[0m\u001b[0;34m\u001b[0m\u001b[0m\n\u001b[0m\u001b[1;32m      5\u001b[0m \u001b[0;31m#names = soup.find_all(\"user\")\u001b[0m\u001b[0;34m\u001b[0m\u001b[0;34m\u001b[0m\u001b[0;34m\u001b[0m\u001b[0m\n\u001b[1;32m      6\u001b[0m \u001b[0mprint\u001b[0m\u001b[0;34m(\u001b[0m\u001b[0msoup\u001b[0m\u001b[0;34m)\u001b[0m\u001b[0;34m\u001b[0m\u001b[0;34m\u001b[0m\u001b[0m\n",
      "\u001b[0;31mAttributeError\u001b[0m: 'dict' object has no attribute 'text'"
     ]
    }
   ],
   "source": [
    "\"\"\"url = 'pulls_url'\n",
    "response = requests.get(url)\"\"\"\n",
    "#html = response.text\n",
    "soup = BeautifulSoup(response.text, 'html.parser')\n",
    "names = soup.find_all(\"user\")\n",
    "print(soup)\n",
    "\"\"\"name_list = set([name[\"user\"][\"login\"] for name in names])\n",
    "name_list\"\"\""
   ]
  },
  {
   "cell_type": "code",
   "execution_count": null,
   "metadata": {},
   "outputs": [],
   "source": [
    "\n",
    "import pandas as pd\n",
    "\n",
    "pokeDf = pd.DataFrame(pokemons)"
   ]
  },
  {
   "cell_type": "code",
   "execution_count": 7,
   "metadata": {},
   "outputs": [
    {
     "name": "stdout",
     "output_type": "stream",
     "text": [
      "Request data to https://api.github.com/repos/ironhack-datalabs/datamad0820/pulls?state=all&page=0 status_code:200\n",
      "[{'IreneLopezLujan', 'Jav1-Mart1nez', 'KevsDe', 'VanessaMacC', 'marta-zavala', 'grundius1', 'jmena23', 'charliesket', 'Diegon8', 'jorge-alamillos', 'Joycelili', 'bmedm', 'PaulaNuno', 'AnaMA96', 'DiegoCaulonga', 'FDELTA', 'Daniel-GarciaGarcia', 'laura290', 'rfminguez', 'gontzalm', 'miguelgimenezgimenez'}]\n",
      "Request data to https://api.github.com/repos/ironhack-datalabs/datamad0820/pulls?state=all&page=1 status_code:200\n",
      "[{'IreneLopezLujan', 'Jav1-Mart1nez', 'KevsDe', 'VanessaMacC', 'marta-zavala', 'grundius1', 'jmena23', 'charliesket', 'Diegon8', 'jorge-alamillos', 'Joycelili', 'bmedm', 'PaulaNuno', 'AnaMA96', 'DiegoCaulonga', 'FDELTA', 'Daniel-GarciaGarcia', 'laura290', 'rfminguez', 'gontzalm', 'miguelgimenezgimenez'}]\n",
      "Request data to https://api.github.com/repos/ironhack-datalabs/datamad0820/pulls?state=all&page=2 status_code:200\n",
      "[{'IreneLopezLujan', 'Jav1-Mart1nez', 'silviaherf', 'KevsDe', 'VanessaMacC', 'marta-zavala', 'grundius1', 'jmena23', 'charliesket', 'Diegon8', 'jorge-alamillos', 'Joycelili', 'bmedm', 'PaulaNuno', 'AnaMA96', 'Davidlazarog', 'DiegoCaulonga', 'Daniel-GarciaGarcia', 'laura290', 'rfminguez', 'gontzalm', 'miguelgimenezgimenez'}]\n",
      "Request data to https://api.github.com/repos/ironhack-datalabs/datamad0820/pulls?state=all&page=3 status_code:200\n",
      "[{'IreneLopezLujan', 'Jav1-Mart1nez', 'silviaherf', 'VanessaMacC', 'marta-zavala', 'grundius1', 'jmena23', 'Diegon8', 'jorge-alamillos', 'Joycelili', 'bmedm', 'PaulaNuno', 'AnaMA96', 'Davidlazarog', 'DiegoCaulonga', 'FDELTA', 'Daniel-GarciaGarcia', 'laura290', 'rfminguez', 'miguelgimenezgimenez'}]\n",
      "Request data to https://api.github.com/repos/ironhack-datalabs/datamad0820/pulls?state=all&page=4 status_code:200\n",
      "[{'IreneLopezLujan', 'Jav1-Mart1nez', 'silviaherf', 'KevsDe', 'grundius1', 'jmena23', 'charliesket', 'Diegon8', 'jorge-alamillos', 'Joycelili', 'bmedm', 'PaulaNuno', 'Davidlazarog', 'DiegoCaulonga', 'FDELTA', 'Daniel-GarciaGarcia', 'laura290', 'rfminguez', 'gontzalm', 'miguelgimenezgimenez'}]\n"
     ]
    }
   ],
   "source": [
    "for i in range(5):\n",
    "    data = get_gh_v3(f\"/repos/ironhack-datalabs/datamad0820/pulls?state=all&page={i}\")    \n",
    "#[i for i in data]\n",
    "    user = []\n",
    "    user.append(set([d[\"user\"][\"login\"] for d in data]))\n",
    "    \n",
    "    print(user)"
   ]
  },
  {
   "cell_type": "code",
   "execution_count": null,
   "metadata": {},
   "outputs": [],
   "source": []
  },
  {
   "cell_type": "code",
   "execution_count": null,
   "metadata": {},
   "outputs": [],
   "source": []
  }
 ],
 "metadata": {
  "kernelspec": {
   "display_name": "Python 3",
   "language": "python",
   "name": "python3"
  },
  "language_info": {
   "codemirror_mode": {
    "name": "ipython",
    "version": 3
   },
   "file_extension": ".py",
   "mimetype": "text/x-python",
   "name": "python",
   "nbconvert_exporter": "python",
   "pygments_lexer": "ipython3",
   "version": "3.8.3"
  }
 },
 "nbformat": 4,
 "nbformat_minor": 4
}
